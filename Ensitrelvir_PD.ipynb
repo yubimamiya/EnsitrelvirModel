{
  "cells": [
    {
      "cell_type": "markdown",
      "source": [
        "Connect colab notebook to google drive"
      ],
      "metadata": {
        "id": "amV0ZKrmBCgO"
      },
      "id": "amV0ZKrmBCgO"
    },
    {
      "cell_type": "code",
      "source": [
        "from google.colab import drive\n",
        "drive.mount('/content/gdrive')"
      ],
      "metadata": {
        "colab": {
          "base_uri": "https://localhost:8080/"
        },
        "id": "2j_eMwZdn4PR",
        "outputId": "85ab6bd5-ee5d-44f8-bc29-3a4fae3b3e48"
      },
      "id": "2j_eMwZdn4PR",
      "execution_count": null,
      "outputs": [
        {
          "output_type": "stream",
          "name": "stdout",
          "text": [
            "Mounted at /content/gdrive\n"
          ]
        }
      ]
    },
    {
      "cell_type": "markdown",
      "source": [
        "Install package for least squares minimization"
      ],
      "metadata": {
        "id": "1eS0SfMgBJSw"
      },
      "id": "1eS0SfMgBJSw"
    },
    {
      "cell_type": "code",
      "source": [
        "# install lmfit module once\n",
        "!pip install lmfit"
      ],
      "metadata": {
        "colab": {
          "base_uri": "https://localhost:8080/"
        },
        "id": "aOdSg8BaAVSu",
        "outputId": "a6c17c93-72a4-4c3f-ab82-eb57bd363c8e"
      },
      "id": "aOdSg8BaAVSu",
      "execution_count": null,
      "outputs": [
        {
          "output_type": "stream",
          "name": "stdout",
          "text": [
            "Collecting lmfit\n",
            "  Downloading lmfit-1.3.1-py3-none-any.whl (105 kB)\n",
            "\u001b[2K     \u001b[90m━━━━━━━━━━━━━━━━━━━━━━━━━━━━━━━━━━━━━━━━\u001b[0m \u001b[32m105.9/105.9 kB\u001b[0m \u001b[31m1.1 MB/s\u001b[0m eta \u001b[36m0:00:00\u001b[0m\n",
            "\u001b[?25hCollecting asteval>=0.9.28 (from lmfit)\n",
            "  Downloading asteval-1.0.1-py3-none-any.whl (21 kB)\n",
            "Requirement already satisfied: numpy>=1.19 in /usr/local/lib/python3.10/dist-packages (from lmfit) (1.25.2)\n",
            "Requirement already satisfied: scipy>=1.6 in /usr/local/lib/python3.10/dist-packages (from lmfit) (1.11.4)\n",
            "Collecting uncertainties>=3.1.4 (from lmfit)\n",
            "  Downloading uncertainties-3.2.2-py3-none-any.whl (58 kB)\n",
            "\u001b[2K     \u001b[90m━━━━━━━━━━━━━━━━━━━━━━━━━━━━━━━━━━━━━━━━\u001b[0m \u001b[32m58.3/58.3 kB\u001b[0m \u001b[31m5.2 MB/s\u001b[0m eta \u001b[36m0:00:00\u001b[0m\n",
            "\u001b[?25hCollecting dill>=0.3.4 (from lmfit)\n",
            "  Downloading dill-0.3.8-py3-none-any.whl (116 kB)\n",
            "\u001b[2K     \u001b[90m━━━━━━━━━━━━━━━━━━━━━━━━━━━━━━━━━━━━━━━━\u001b[0m \u001b[32m116.3/116.3 kB\u001b[0m \u001b[31m4.9 MB/s\u001b[0m eta \u001b[36m0:00:00\u001b[0m\n",
            "\u001b[?25hInstalling collected packages: uncertainties, dill, asteval, lmfit\n",
            "Successfully installed asteval-1.0.1 dill-0.3.8 lmfit-1.3.1 uncertainties-3.2.2\n"
          ]
        }
      ]
    },
    {
      "cell_type": "markdown",
      "source": [
        "Install related packages"
      ],
      "metadata": {
        "id": "OtUtyN4RBK0q"
      },
      "id": "OtUtyN4RBK0q"
    },
    {
      "cell_type": "code",
      "execution_count": null,
      "id": "bee1ddd1",
      "metadata": {
        "id": "bee1ddd1"
      },
      "outputs": [],
      "source": [
        "from scipy.integrate import odeint\n",
        "from array import *\n",
        "from scipy.optimize import curve_fit\n",
        "import scipy.integrate as spi\n",
        "from lmfit import minimize, Parameters, Model, fit_report\n",
        "import numpy as np\n",
        "import matplotlib.pyplot as plt\n",
        "import scipy.io as io\n",
        "import math\n",
        "import pandas as pd\n",
        "import seaborn as sns\n",
        "\n",
        "%matplotlib inline"
      ]
    },
    {
      "cell_type": "markdown",
      "source": [
        "Read in PD data in csv: has concentration and effect on viral load reduction from in vitro cell culture assay"
      ],
      "metadata": {
        "id": "AVbiNmHMBMTJ"
      },
      "id": "AVbiNmHMBMTJ"
    },
    {
      "cell_type": "code",
      "source": [
        "Data=pd.read_csv('gdrive/My Drive/Leave/SchifferLab/EnsitrelvirModel/PD_Data.csv')\n",
        "Data"
      ],
      "metadata": {
        "colab": {
          "base_uri": "https://localhost:8080/",
          "height": 300
        },
        "id": "jy0AyxkYn8rM",
        "outputId": "5574c705-64b4-47f4-ef19-97d69e4baa11"
      },
      "id": "jy0AyxkYn8rM",
      "execution_count": null,
      "outputs": [
        {
          "output_type": "execute_result",
          "data": {
            "text/plain": [
              "     Conc     Eff\n",
              "0  0.0045    2.67\n",
              "1  0.0100    2.45\n",
              "2  0.0400    4.23\n",
              "3  0.1200   14.58\n",
              "4  0.3600   63.79\n",
              "5  1.0900  101.76\n",
              "6  3.2700  102.21\n",
              "7  9.8400  104.88"
            ],
            "text/html": [
              "\n",
              "  <div id=\"df-32848df5-6029-466c-93a6-fa5afd4f7ee0\" class=\"colab-df-container\">\n",
              "    <div>\n",
              "<style scoped>\n",
              "    .dataframe tbody tr th:only-of-type {\n",
              "        vertical-align: middle;\n",
              "    }\n",
              "\n",
              "    .dataframe tbody tr th {\n",
              "        vertical-align: top;\n",
              "    }\n",
              "\n",
              "    .dataframe thead th {\n",
              "        text-align: right;\n",
              "    }\n",
              "</style>\n",
              "<table border=\"1\" class=\"dataframe\">\n",
              "  <thead>\n",
              "    <tr style=\"text-align: right;\">\n",
              "      <th></th>\n",
              "      <th>Conc</th>\n",
              "      <th>Eff</th>\n",
              "    </tr>\n",
              "  </thead>\n",
              "  <tbody>\n",
              "    <tr>\n",
              "      <th>0</th>\n",
              "      <td>0.0045</td>\n",
              "      <td>2.67</td>\n",
              "    </tr>\n",
              "    <tr>\n",
              "      <th>1</th>\n",
              "      <td>0.0100</td>\n",
              "      <td>2.45</td>\n",
              "    </tr>\n",
              "    <tr>\n",
              "      <th>2</th>\n",
              "      <td>0.0400</td>\n",
              "      <td>4.23</td>\n",
              "    </tr>\n",
              "    <tr>\n",
              "      <th>3</th>\n",
              "      <td>0.1200</td>\n",
              "      <td>14.58</td>\n",
              "    </tr>\n",
              "    <tr>\n",
              "      <th>4</th>\n",
              "      <td>0.3600</td>\n",
              "      <td>63.79</td>\n",
              "    </tr>\n",
              "    <tr>\n",
              "      <th>5</th>\n",
              "      <td>1.0900</td>\n",
              "      <td>101.76</td>\n",
              "    </tr>\n",
              "    <tr>\n",
              "      <th>6</th>\n",
              "      <td>3.2700</td>\n",
              "      <td>102.21</td>\n",
              "    </tr>\n",
              "    <tr>\n",
              "      <th>7</th>\n",
              "      <td>9.8400</td>\n",
              "      <td>104.88</td>\n",
              "    </tr>\n",
              "  </tbody>\n",
              "</table>\n",
              "</div>\n",
              "    <div class=\"colab-df-buttons\">\n",
              "\n",
              "  <div class=\"colab-df-container\">\n",
              "    <button class=\"colab-df-convert\" onclick=\"convertToInteractive('df-32848df5-6029-466c-93a6-fa5afd4f7ee0')\"\n",
              "            title=\"Convert this dataframe to an interactive table.\"\n",
              "            style=\"display:none;\">\n",
              "\n",
              "  <svg xmlns=\"http://www.w3.org/2000/svg\" height=\"24px\" viewBox=\"0 -960 960 960\">\n",
              "    <path d=\"M120-120v-720h720v720H120Zm60-500h600v-160H180v160Zm220 220h160v-160H400v160Zm0 220h160v-160H400v160ZM180-400h160v-160H180v160Zm440 0h160v-160H620v160ZM180-180h160v-160H180v160Zm440 0h160v-160H620v160Z\"/>\n",
              "  </svg>\n",
              "    </button>\n",
              "\n",
              "  <style>\n",
              "    .colab-df-container {\n",
              "      display:flex;\n",
              "      gap: 12px;\n",
              "    }\n",
              "\n",
              "    .colab-df-convert {\n",
              "      background-color: #E8F0FE;\n",
              "      border: none;\n",
              "      border-radius: 50%;\n",
              "      cursor: pointer;\n",
              "      display: none;\n",
              "      fill: #1967D2;\n",
              "      height: 32px;\n",
              "      padding: 0 0 0 0;\n",
              "      width: 32px;\n",
              "    }\n",
              "\n",
              "    .colab-df-convert:hover {\n",
              "      background-color: #E2EBFA;\n",
              "      box-shadow: 0px 1px 2px rgba(60, 64, 67, 0.3), 0px 1px 3px 1px rgba(60, 64, 67, 0.15);\n",
              "      fill: #174EA6;\n",
              "    }\n",
              "\n",
              "    .colab-df-buttons div {\n",
              "      margin-bottom: 4px;\n",
              "    }\n",
              "\n",
              "    [theme=dark] .colab-df-convert {\n",
              "      background-color: #3B4455;\n",
              "      fill: #D2E3FC;\n",
              "    }\n",
              "\n",
              "    [theme=dark] .colab-df-convert:hover {\n",
              "      background-color: #434B5C;\n",
              "      box-shadow: 0px 1px 3px 1px rgba(0, 0, 0, 0.15);\n",
              "      filter: drop-shadow(0px 1px 2px rgba(0, 0, 0, 0.3));\n",
              "      fill: #FFFFFF;\n",
              "    }\n",
              "  </style>\n",
              "\n",
              "    <script>\n",
              "      const buttonEl =\n",
              "        document.querySelector('#df-32848df5-6029-466c-93a6-fa5afd4f7ee0 button.colab-df-convert');\n",
              "      buttonEl.style.display =\n",
              "        google.colab.kernel.accessAllowed ? 'block' : 'none';\n",
              "\n",
              "      async function convertToInteractive(key) {\n",
              "        const element = document.querySelector('#df-32848df5-6029-466c-93a6-fa5afd4f7ee0');\n",
              "        const dataTable =\n",
              "          await google.colab.kernel.invokeFunction('convertToInteractive',\n",
              "                                                    [key], {});\n",
              "        if (!dataTable) return;\n",
              "\n",
              "        const docLinkHtml = 'Like what you see? Visit the ' +\n",
              "          '<a target=\"_blank\" href=https://colab.research.google.com/notebooks/data_table.ipynb>data table notebook</a>'\n",
              "          + ' to learn more about interactive tables.';\n",
              "        element.innerHTML = '';\n",
              "        dataTable['output_type'] = 'display_data';\n",
              "        await google.colab.output.renderOutput(dataTable, element);\n",
              "        const docLink = document.createElement('div');\n",
              "        docLink.innerHTML = docLinkHtml;\n",
              "        element.appendChild(docLink);\n",
              "      }\n",
              "    </script>\n",
              "  </div>\n",
              "\n",
              "\n",
              "<div id=\"df-ec480ff7-ce3f-453a-b930-b7f0407514f3\">\n",
              "  <button class=\"colab-df-quickchart\" onclick=\"quickchart('df-ec480ff7-ce3f-453a-b930-b7f0407514f3')\"\n",
              "            title=\"Suggest charts\"\n",
              "            style=\"display:none;\">\n",
              "\n",
              "<svg xmlns=\"http://www.w3.org/2000/svg\" height=\"24px\"viewBox=\"0 0 24 24\"\n",
              "     width=\"24px\">\n",
              "    <g>\n",
              "        <path d=\"M19 3H5c-1.1 0-2 .9-2 2v14c0 1.1.9 2 2 2h14c1.1 0 2-.9 2-2V5c0-1.1-.9-2-2-2zM9 17H7v-7h2v7zm4 0h-2V7h2v10zm4 0h-2v-4h2v4z\"/>\n",
              "    </g>\n",
              "</svg>\n",
              "  </button>\n",
              "\n",
              "<style>\n",
              "  .colab-df-quickchart {\n",
              "      --bg-color: #E8F0FE;\n",
              "      --fill-color: #1967D2;\n",
              "      --hover-bg-color: #E2EBFA;\n",
              "      --hover-fill-color: #174EA6;\n",
              "      --disabled-fill-color: #AAA;\n",
              "      --disabled-bg-color: #DDD;\n",
              "  }\n",
              "\n",
              "  [theme=dark] .colab-df-quickchart {\n",
              "      --bg-color: #3B4455;\n",
              "      --fill-color: #D2E3FC;\n",
              "      --hover-bg-color: #434B5C;\n",
              "      --hover-fill-color: #FFFFFF;\n",
              "      --disabled-bg-color: #3B4455;\n",
              "      --disabled-fill-color: #666;\n",
              "  }\n",
              "\n",
              "  .colab-df-quickchart {\n",
              "    background-color: var(--bg-color);\n",
              "    border: none;\n",
              "    border-radius: 50%;\n",
              "    cursor: pointer;\n",
              "    display: none;\n",
              "    fill: var(--fill-color);\n",
              "    height: 32px;\n",
              "    padding: 0;\n",
              "    width: 32px;\n",
              "  }\n",
              "\n",
              "  .colab-df-quickchart:hover {\n",
              "    background-color: var(--hover-bg-color);\n",
              "    box-shadow: 0 1px 2px rgba(60, 64, 67, 0.3), 0 1px 3px 1px rgba(60, 64, 67, 0.15);\n",
              "    fill: var(--button-hover-fill-color);\n",
              "  }\n",
              "\n",
              "  .colab-df-quickchart-complete:disabled,\n",
              "  .colab-df-quickchart-complete:disabled:hover {\n",
              "    background-color: var(--disabled-bg-color);\n",
              "    fill: var(--disabled-fill-color);\n",
              "    box-shadow: none;\n",
              "  }\n",
              "\n",
              "  .colab-df-spinner {\n",
              "    border: 2px solid var(--fill-color);\n",
              "    border-color: transparent;\n",
              "    border-bottom-color: var(--fill-color);\n",
              "    animation:\n",
              "      spin 1s steps(1) infinite;\n",
              "  }\n",
              "\n",
              "  @keyframes spin {\n",
              "    0% {\n",
              "      border-color: transparent;\n",
              "      border-bottom-color: var(--fill-color);\n",
              "      border-left-color: var(--fill-color);\n",
              "    }\n",
              "    20% {\n",
              "      border-color: transparent;\n",
              "      border-left-color: var(--fill-color);\n",
              "      border-top-color: var(--fill-color);\n",
              "    }\n",
              "    30% {\n",
              "      border-color: transparent;\n",
              "      border-left-color: var(--fill-color);\n",
              "      border-top-color: var(--fill-color);\n",
              "      border-right-color: var(--fill-color);\n",
              "    }\n",
              "    40% {\n",
              "      border-color: transparent;\n",
              "      border-right-color: var(--fill-color);\n",
              "      border-top-color: var(--fill-color);\n",
              "    }\n",
              "    60% {\n",
              "      border-color: transparent;\n",
              "      border-right-color: var(--fill-color);\n",
              "    }\n",
              "    80% {\n",
              "      border-color: transparent;\n",
              "      border-right-color: var(--fill-color);\n",
              "      border-bottom-color: var(--fill-color);\n",
              "    }\n",
              "    90% {\n",
              "      border-color: transparent;\n",
              "      border-bottom-color: var(--fill-color);\n",
              "    }\n",
              "  }\n",
              "</style>\n",
              "\n",
              "  <script>\n",
              "    async function quickchart(key) {\n",
              "      const quickchartButtonEl =\n",
              "        document.querySelector('#' + key + ' button');\n",
              "      quickchartButtonEl.disabled = true;  // To prevent multiple clicks.\n",
              "      quickchartButtonEl.classList.add('colab-df-spinner');\n",
              "      try {\n",
              "        const charts = await google.colab.kernel.invokeFunction(\n",
              "            'suggestCharts', [key], {});\n",
              "      } catch (error) {\n",
              "        console.error('Error during call to suggestCharts:', error);\n",
              "      }\n",
              "      quickchartButtonEl.classList.remove('colab-df-spinner');\n",
              "      quickchartButtonEl.classList.add('colab-df-quickchart-complete');\n",
              "    }\n",
              "    (() => {\n",
              "      let quickchartButtonEl =\n",
              "        document.querySelector('#df-ec480ff7-ce3f-453a-b930-b7f0407514f3 button');\n",
              "      quickchartButtonEl.style.display =\n",
              "        google.colab.kernel.accessAllowed ? 'block' : 'none';\n",
              "    })();\n",
              "  </script>\n",
              "</div>\n",
              "\n",
              "  <div id=\"id_76cd49fb-3949-435f-9147-0dd26f3c9a0b\">\n",
              "    <style>\n",
              "      .colab-df-generate {\n",
              "        background-color: #E8F0FE;\n",
              "        border: none;\n",
              "        border-radius: 50%;\n",
              "        cursor: pointer;\n",
              "        display: none;\n",
              "        fill: #1967D2;\n",
              "        height: 32px;\n",
              "        padding: 0 0 0 0;\n",
              "        width: 32px;\n",
              "      }\n",
              "\n",
              "      .colab-df-generate:hover {\n",
              "        background-color: #E2EBFA;\n",
              "        box-shadow: 0px 1px 2px rgba(60, 64, 67, 0.3), 0px 1px 3px 1px rgba(60, 64, 67, 0.15);\n",
              "        fill: #174EA6;\n",
              "      }\n",
              "\n",
              "      [theme=dark] .colab-df-generate {\n",
              "        background-color: #3B4455;\n",
              "        fill: #D2E3FC;\n",
              "      }\n",
              "\n",
              "      [theme=dark] .colab-df-generate:hover {\n",
              "        background-color: #434B5C;\n",
              "        box-shadow: 0px 1px 3px 1px rgba(0, 0, 0, 0.15);\n",
              "        filter: drop-shadow(0px 1px 2px rgba(0, 0, 0, 0.3));\n",
              "        fill: #FFFFFF;\n",
              "      }\n",
              "    </style>\n",
              "    <button class=\"colab-df-generate\" onclick=\"generateWithVariable('Data')\"\n",
              "            title=\"Generate code using this dataframe.\"\n",
              "            style=\"display:none;\">\n",
              "\n",
              "  <svg xmlns=\"http://www.w3.org/2000/svg\" height=\"24px\"viewBox=\"0 0 24 24\"\n",
              "       width=\"24px\">\n",
              "    <path d=\"M7,19H8.4L18.45,9,17,7.55,7,17.6ZM5,21V16.75L18.45,3.32a2,2,0,0,1,2.83,0l1.4,1.43a1.91,1.91,0,0,1,.58,1.4,1.91,1.91,0,0,1-.58,1.4L9.25,21ZM18.45,9,17,7.55Zm-12,3A5.31,5.31,0,0,0,4.9,8.1,5.31,5.31,0,0,0,1,6.5,5.31,5.31,0,0,0,4.9,4.9,5.31,5.31,0,0,0,6.5,1,5.31,5.31,0,0,0,8.1,4.9,5.31,5.31,0,0,0,12,6.5,5.46,5.46,0,0,0,6.5,12Z\"/>\n",
              "  </svg>\n",
              "    </button>\n",
              "    <script>\n",
              "      (() => {\n",
              "      const buttonEl =\n",
              "        document.querySelector('#id_76cd49fb-3949-435f-9147-0dd26f3c9a0b button.colab-df-generate');\n",
              "      buttonEl.style.display =\n",
              "        google.colab.kernel.accessAllowed ? 'block' : 'none';\n",
              "\n",
              "      buttonEl.onclick = () => {\n",
              "        google.colab.notebook.generateWithVariable('Data');\n",
              "      }\n",
              "      })();\n",
              "    </script>\n",
              "  </div>\n",
              "\n",
              "    </div>\n",
              "  </div>\n"
            ],
            "application/vnd.google.colaboratory.intrinsic+json": {
              "type": "dataframe",
              "variable_name": "Data",
              "summary": "{\n  \"name\": \"Data\",\n  \"rows\": 8,\n  \"fields\": [\n    {\n      \"column\": \"Conc\",\n      \"properties\": {\n        \"dtype\": \"number\",\n        \"std\": 3.4166427541991315,\n        \"min\": 0.0045,\n        \"max\": 9.84,\n        \"num_unique_values\": 8,\n        \"samples\": [\n          0.01,\n          1.09,\n          0.0045\n        ],\n        \"semantic_type\": \"\",\n        \"description\": \"\"\n      }\n    },\n    {\n      \"column\": \"Eff\",\n      \"properties\": {\n        \"dtype\": \"number\",\n        \"std\": 48.48577153218693,\n        \"min\": 2.45,\n        \"max\": 104.88,\n        \"num_unique_values\": 8,\n        \"samples\": [\n          2.45,\n          101.76,\n          2.67\n        ],\n        \"semantic_type\": \"\",\n        \"description\": \"\"\n      }\n    }\n  ]\n}"
            }
          },
          "metadata": {},
          "execution_count": 10
        }
      ]
    },
    {
      "cell_type": "markdown",
      "source": [
        "Define a pharmacodynamic model based on the parameters of the hill equation: concentration of the drug, the baseline effect (minimal viral replication inhibition), the maximum effect (max viral replication inhibition), the IC50 (concentration of drug for 50% inhibition of viral replication), and the hill coefficient"
      ],
      "metadata": {
        "id": "gZ0JtHMGBS3m"
      },
      "id": "gZ0JtHMGBS3m"
    },
    {
      "cell_type": "code",
      "execution_count": null,
      "id": "f2132426",
      "metadata": {
        "id": "f2132426"
      },
      "outputs": [],
      "source": [
        "def PD_Model (Conc, E_base, E_max, IC50, Hill_Coeff):\n",
        "    E = E_base + np.divide(np.multiply(E_max,np.power(Conc,Hill_Coeff)),(np.power(IC50, Hill_Coeff)+np.power(Conc,Hill_Coeff)))\n",
        "    return E\n",
        "PDModel = Model(PD_Model)"
      ]
    },
    {
      "cell_type": "markdown",
      "source": [
        "Set the values of the hill equation\n",
        "- E_base is 0 because there is no inhibition of viral replication when there is no drug\n",
        "- E_max can be anywhere from 0 to 1, but is most likely 0.95. It is allowed to vary in value.\n",
        "- IC50 is when the concentration of drug when the inhibition value is 0.5\n",
        "- The hill coefficient is 1?\n",
        "\n",
        "\n",
        "Call make_params to set these parameters"
      ],
      "metadata": {
        "id": "T0vZCnsrBj-g"
      },
      "id": "T0vZCnsrBj-g"
    },
    {
      "cell_type": "code",
      "execution_count": null,
      "id": "ff2a42e7",
      "metadata": {
        "id": "ff2a42e7"
      },
      "outputs": [],
      "source": [
        "PDModel.set_param_hint('E_base', value=0, vary = False)\n",
        "PDModel.set_param_hint('E_max', value=0.95, min=0, max=1, vary = True)\n",
        "PDModel.set_param_hint('IC50', value=0.5, min=0, max=np.inf)\n",
        "PDModel.set_param_hint('Hill_Coeff', value=1, min=0, max=np.inf)\n",
        "params = PDModel.make_params()"
      ]
    },
    {
      "cell_type": "markdown",
      "source": [
        "Plot the data from the experiment"
      ],
      "metadata": {
        "id": "NVxv8jgRB_gz"
      },
      "id": "NVxv8jgRB_gz"
    },
    {
      "cell_type": "code",
      "execution_count": null,
      "id": "326ae424",
      "metadata": {
        "colab": {
          "base_uri": "https://localhost:8080/",
          "height": 452
        },
        "id": "326ae424",
        "outputId": "ca4298fa-da2c-49f8-8f48-59f0cc8ef6b2"
      },
      "outputs": [
        {
          "output_type": "execute_result",
          "data": {
            "text/plain": [
              "[<matplotlib.lines.Line2D at 0x7db908d70610>]"
            ]
          },
          "metadata": {},
          "execution_count": 11
        },
        {
          "output_type": "display_data",
          "data": {
            "text/plain": [
              "<Figure size 640x480 with 1 Axes>"
            ],
            "image/png": "[encoded data removed]"
          },
          "metadata": {}
        }
      ],
      "source": [
        "Conc = Data.Conc.values\n",
        "Resp = Data.Eff.values\n",
        "plt.semilogx(Conc, Resp, 'o')"
      ]
    },
    {
      "cell_type": "markdown",
      "source": [
        "Fit the PD model to the given experimental data. You are trying to minimize least squares by changing IC50, E_max, and Hill_Coeff"
      ],
      "metadata": {
        "id": "9b5SSy-rCB7v"
      },
      "id": "9b5SSy-rCB7v"
    },
    {
      "cell_type": "code",
      "execution_count": null,
      "id": "b49ca58f",
      "metadata": {
        "id": "b49ca58f"
      },
      "outputs": [],
      "source": [
        "result_ENS = PDModel.fit(Resp/100, params, Conc=Conc)\n",
        "ENS_Params = dict({result_ENS.params['E_max'].name:result_ENS.params['E_max'].value, result_ENS.params['IC50'].name: result_ENS.params['IC50'].value, result_ENS.params['Hill_Coeff'].name: result_ENS.params['Hill_Coeff'].value})"
      ]
    },
    {
      "cell_type": "markdown",
      "source": [
        "E_max is close to 1 as expected, IC50 is 0.27, Hill coefficient is 2.3"
      ],
      "metadata": {
        "id": "mgt_Dp_uCKEg"
      },
      "id": "mgt_Dp_uCKEg"
    },
    {
      "cell_type": "code",
      "execution_count": null,
      "id": "c1cc3711",
      "metadata": {
        "colab": {
          "base_uri": "https://localhost:8080/"
        },
        "id": "c1cc3711",
        "outputId": "8bfe3671-3deb-42c7-82a0-18f7944bb04b"
      },
      "outputs": [
        {
          "output_type": "execute_result",
          "data": {
            "text/plain": [
              "{'E_max': 0.9999999999873523,\n",
              " 'IC50': 0.2718002303186362,\n",
              " 'Hill_Coeff': 2.3044854687369707}"
            ]
          },
          "metadata": {},
          "execution_count": 13
        }
      ],
      "source": [
        "ENS_Params"
      ]
    },
    {
      "cell_type": "markdown",
      "source": [
        "Print full results from fitting PD model\n",
        "- R squared is 0.99, which is very close to 1"
      ],
      "metadata": {
        "id": "XlJ518ntCN1M"
      },
      "id": "XlJ518ntCN1M"
    },
    {
      "cell_type": "code",
      "execution_count": null,
      "id": "8d14077f",
      "metadata": {
        "colab": {
          "base_uri": "https://localhost:8080/",
          "height": 528
        },
        "id": "8d14077f",
        "outputId": "beb6037e-a32d-4cc1-fb6b-2ed834f9df58"
      },
      "outputs": [
        {
          "output_type": "execute_result",
          "data": {
            "text/plain": [
              "<lmfit.model.ModelResult at 0x7db9069776d0>"
            ],
            "text/html": [
              "<h2>Fit Result</h2> <p>Model: Model(PD_Model)</p> <table class=\"jp-toc-ignore\"><caption class=\"jp-toc-ignore\">Fit Statistics</caption><tr><td style='text-align:left'>fitting method</td><td style='text-align:right'>leastsq</td></tr><tr><td style='text-align:left'># function evals</td><td style='text-align:right'>124</td></tr><tr><td style='text-align:left'># data points</td><td style='text-align:right'>8</td></tr><tr><td style='text-align:left'># variables</td><td style='text-align:right'>3</td></tr><tr><td style='text-align:left'>chi-square</td><td style='text-align:right'> 0.00901223</td></tr><tr><td style='text-align:left'>reduced chi-square</td><td style='text-align:right'> 0.00180245</td></tr><tr><td style='text-align:left'>Akaike info crit.</td><td style='text-align:right'>-48.3089099</td></tr><tr><td style='text-align:left'>Bayesian info crit.</td><td style='text-align:right'>-48.0705852</td></tr><tr><td style='text-align:left'>R-squared</td><td style='text-align:right'> 0.99452347</td></tr></table><table class=\"jp-toc-ignore\"><caption>Parameters</caption><tr><th style='text-align:left'>name</th><th style='text-align:left'>value</th><th style='text-align:left'>standard error</th><th style='text-align:left'>relative error</th><th style='text-align:left'>initial value</th><th style='text-align:left'>min</th><th style='text-align:left'>max</th><th style='text-align:right'>vary</th></tr><tr><td style='text-align:left'>E_base</td><td style='text-align:left'> 0.00000000</td><td style='text-align:left'> 0.00000000</td><td style='text-align:left'></td><td style='text-align:left'>0</td><td style='text-align:left'>       -inf</td><td style='text-align:left'>        inf</td><td style='text-align:right'>False</td></tr><tr><td style='text-align:left'>E_max</td><td style='text-align:left'> 1.00000000</td><td style='text-align:left'> 0.02169204</td><td style='text-align:left'>(2.17%)</td><td style='text-align:left'>0.95</td><td style='text-align:left'> 0.00000000</td><td style='text-align:left'> 1.00000000</td><td style='text-align:right'>True</td></tr><tr><td style='text-align:left'>IC50</td><td style='text-align:left'> 0.27180023</td><td style='text-align:left'> 0.02168920</td><td style='text-align:left'>(7.98%)</td><td style='text-align:left'>0.5</td><td style='text-align:left'> 0.00000000</td><td style='text-align:left'>        inf</td><td style='text-align:right'>True</td></tr><tr><td style='text-align:left'>Hill_Coeff</td><td style='text-align:left'> 2.30448547</td><td style='text-align:left'> 0.36160564</td><td style='text-align:left'>(15.69%)</td><td style='text-align:left'>1</td><td style='text-align:left'> 0.00000000</td><td style='text-align:left'>        inf</td><td style='text-align:right'>True</td></tr></table><table class=\"jp-toc-ignore\"><caption>Correlations (unreported values are < 0.100)</caption><tr><th style='text-align:left'>Parameter1</th><th style='text-align:left'>Parameter 2</th><th style='text-align:right'>Correlation</th></tr><tr><td style='text-align:left'>E_max</td><td style='text-align:left'>IC50</td><td style='text-align:right'>-0.4056</td></tr><tr><td style='text-align:left'>E_max</td><td style='text-align:left'>Hill_Coeff</td><td style='text-align:right'>+0.3462</td></tr></table>"
            ]
          },
          "metadata": {},
          "execution_count": 14
        }
      ],
      "source": [
        "result_ENS"
      ]
    },
    {
      "cell_type": "markdown",
      "source": [
        "Plot the fitted PD model over the experimental data"
      ],
      "metadata": {
        "id": "5YJAw7qDCX9J"
      },
      "id": "5YJAw7qDCX9J"
    },
    {
      "cell_type": "code",
      "execution_count": null,
      "id": "e31c71f4",
      "metadata": {
        "colab": {
          "base_uri": "https://localhost:8080/",
          "height": 452
        },
        "id": "e31c71f4",
        "outputId": "d45fb770-268c-46f8-f4d5-ad4602dfd8c4"
      },
      "outputs": [
        {
          "output_type": "execute_result",
          "data": {
            "text/plain": [
              "[<matplotlib.lines.Line2D at 0x7db9068f2e60>]"
            ]
          },
          "metadata": {},
          "execution_count": 15
        },
        {
          "output_type": "display_data",
          "data": {
            "text/plain": [
              "<Figure size 640x480 with 1 Axes>"
            ],
            "image/png": "[encoded data removed]"
          },
          "metadata": {}
        }
      ],
      "source": [
        "plt.semilogx(Conc, Resp, 'o')\n",
        "plt.plot(np.linspace(0.004, 10, 1000), PDModel.eval(result_ENS.params, Conc = np.linspace(0.004, 10, 1000))*100, '-')\n"
      ]
    },
    {
      "cell_type": "code",
      "execution_count": null,
      "id": "c25ecf64",
      "metadata": {
        "id": "c25ecf64"
      },
      "outputs": [],
      "source": []
    }
  ],
  "metadata": {
    "kernelspec": {
      "display_name": "Python 3 (ipykernel)",
      "language": "python",
      "name": "python3"
    },
    "language_info": {
      "codemirror_mode": {
        "name": "ipython",
        "version": 3
      },
      "file_extension": ".py",
      "mimetype": "text/x-python",
      "name": "python",
      "nbconvert_exporter": "python",
      "pygments_lexer": "ipython3",
      "version": "3.9.12"
    },
    "colab": {
      "provenance": []
    }
  },
  "nbformat": 4,
  "nbformat_minor": 5
}